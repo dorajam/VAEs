{
 "cells": [
  {
   "cell_type": "code",
   "execution_count": 27,
   "metadata": {
    "collapsed": false
   },
   "outputs": [],
   "source": [
    "import sys\n",
    "import numpy as np\n",
    "import tensorflow as tf\n",
    "\n",
    "IMG_DIM = 28\n",
    "ARCHITECTURE = [IMG_DIM**2,\n",
    "                500, 500,\n",
    "                50]\n",
    "HYPERPARAMS = {\n",
    "    \"batch_size\": 128,\n",
    "    \"learning_rate\": 1E-3,\n",
    "    \"dropout\": 0.9,\n",
    "    \"lambda_l2_reg\": 1E-5,\n",
    "    \"nonlinearity\": tf.nn.elu,\n",
    "    \"squashing\": tf.nn.sigmoid\n",
    "}\n",
    "\n",
    "MAX_ITER = 2000\n",
    "MAX_EPOCHS = np.inf\n",
    "GRAPH_DIR = \"./out\""
   ]
  },
  {
   "cell_type": "code",
   "execution_count": 28,
   "metadata": {
    "collapsed": false
   },
   "outputs": [],
   "source": [
    "def load_mnist():\n",
    "    from tensorflow.examples.tutorials.mnist import input_data\n",
    "    return input_data.read_data_sets(\"./mnist_data\")\n",
    "\n",
    "# reloading should be False by default -> don't reload model, just train\n",
    "def main(to_reload=None): \n",
    "    mnist =load_mnist()\n",
    "    \n",
    "    if to_reload: \n",
    "        v = vae.VAE(\"<params_for_model, initialize values again>\")\n",
    "        print \"New model loaded\"\n",
    "    else: # just train\n",
    "        v = vae.VAE(\"<load params from file>\")\n",
    "        v.train(mnist, \"<rest of args>\")"
   ]
  },
  {
   "cell_type": "code",
   "execution_count": 26,
   "metadata": {
    "collapsed": false
   },
   "outputs": [
    {
     "name": "stdout",
     "output_type": "stream",
     "text": [
      "Extracting ./mnist_data/train-images-idx3-ubyte.gz\n",
      "Extracting ./mnist_data/train-labels-idx1-ubyte.gz\n",
      "Extracting ./mnist_data/t10k-images-idx3-ubyte.gz\n",
      "Extracting ./mnist_data/t10k-labels-idx1-ubyte.gz\n"
     ]
    },
    {
     "ename": "NameError",
     "evalue": "global name 'vae' is not defined",
     "output_type": "error",
     "traceback": [
      "\u001b[0;31m---------------------------------------------------------------------------\u001b[0m",
      "\u001b[0;31mNameError\u001b[0m                                 Traceback (most recent call last)",
      "\u001b[0;32m<ipython-input-26-38b0442cb752>\u001b[0m in \u001b[0;36m<module>\u001b[0;34m()\u001b[0m\n\u001b[1;32m      4\u001b[0m     \u001b[0;32mif\u001b[0m \u001b[0msys\u001b[0m\u001b[0;34m.\u001b[0m\u001b[0margv\u001b[0m\u001b[0;34m[\u001b[0m\u001b[0;36m1\u001b[0m\u001b[0;34m]\u001b[0m\u001b[0;34m:\u001b[0m\u001b[0;34m\u001b[0m\u001b[0m\n\u001b[1;32m      5\u001b[0m         \u001b[0mto_reload\u001b[0m \u001b[0;34m=\u001b[0m \u001b[0msys\u001b[0m\u001b[0;34m.\u001b[0m\u001b[0margv\u001b[0m\u001b[0;34m[\u001b[0m\u001b[0;36m1\u001b[0m\u001b[0;34m]\u001b[0m\u001b[0;34m\u001b[0m\u001b[0m\n\u001b[0;32m----> 6\u001b[0;31m         \u001b[0mmain\u001b[0m\u001b[0;34m(\u001b[0m\u001b[0mto_reload\u001b[0m\u001b[0;34m=\u001b[0m\u001b[0mto_reload\u001b[0m\u001b[0;34m)\u001b[0m\u001b[0;34m\u001b[0m\u001b[0m\n\u001b[0m\u001b[1;32m      7\u001b[0m     \u001b[0;32melse\u001b[0m\u001b[0;34m:\u001b[0m\u001b[0;34m\u001b[0m\u001b[0m\n\u001b[1;32m      8\u001b[0m         \u001b[0mmain\u001b[0m\u001b[0;34m(\u001b[0m\u001b[0;34m)\u001b[0m\u001b[0;34m\u001b[0m\u001b[0m\n",
      "\u001b[0;32m<ipython-input-21-bbef520ec8d7>\u001b[0m in \u001b[0;36mmain\u001b[0;34m(to_reload)\u001b[0m\n\u001b[1;32m      8\u001b[0m \u001b[0;34m\u001b[0m\u001b[0m\n\u001b[1;32m      9\u001b[0m     \u001b[0;32mif\u001b[0m \u001b[0mto_reload\u001b[0m\u001b[0;34m:\u001b[0m\u001b[0;34m\u001b[0m\u001b[0m\n\u001b[0;32m---> 10\u001b[0;31m         \u001b[0mv\u001b[0m \u001b[0;34m=\u001b[0m \u001b[0mvae\u001b[0m\u001b[0;34m.\u001b[0m\u001b[0mVAE\u001b[0m\u001b[0;34m(\u001b[0m\u001b[0;34m\"<params_for_model, initialize values again>\"\u001b[0m\u001b[0;34m)\u001b[0m\u001b[0;34m\u001b[0m\u001b[0m\n\u001b[0m\u001b[1;32m     11\u001b[0m         \u001b[0;32mprint\u001b[0m \u001b[0;34m\"New model loaded\"\u001b[0m\u001b[0;34m\u001b[0m\u001b[0m\n\u001b[1;32m     12\u001b[0m     \u001b[0;32melse\u001b[0m\u001b[0;34m:\u001b[0m \u001b[0;31m# just train\u001b[0m\u001b[0;34m\u001b[0m\u001b[0m\n",
      "\u001b[0;31mNameError\u001b[0m: global name 'vae' is not defined"
     ]
    }
   ],
   "source": [
    "if __name__ == \"__main__\":\n",
    "    tf.reset_default_graph() # new graph I guess?\n",
    "    \n",
    "    if sys.argv[1]:\n",
    "        to_reload = sys.argv[1]\n",
    "        main(to_reload=to_reload)\n",
    "    else:\n",
    "        main()\n",
    "    "
   ]
  },
  {
   "cell_type": "code",
   "execution_count": 43,
   "metadata": {
    "collapsed": false
   },
   "outputs": [],
   "source": [
    "import functools\n",
    "from functional import compose, partial\n",
    "import numpy as np\n",
    "import tensorflow as tf\n",
    "\n",
    "def composeAll(*args):\n",
    "    \"\"\"Util for multiple function composition\n",
    "    i.e. composed = composeAll([f, g, h])\n",
    "         composed(x) # == f(g(h(x)))\n",
    "    \"\"\"\n",
    "    # adapted from https://docs.python.org/3.1/howto/functional.html\n",
    "    return partial(functools.reduce, compose)(*args)"
   ]
  },
  {
   "cell_type": "code",
   "execution_count": 50,
   "metadata": {
    "collapsed": false
   },
   "outputs": [
    {
     "data": {
      "text/plain": [
       "8"
      ]
     },
     "execution_count": 50,
     "metadata": {},
     "output_type": "execute_result"
    }
   ],
   "source": [
    "def f(a,b):\n",
    "    return a +b + 1\n",
    "def g(b):\n",
    "    return b\n",
    "def c(t):\n",
    "    return t + 2\n",
    "c = composeAll([g,f])\n",
    "c(3,4)"
   ]
  },
  {
   "cell_type": "code",
   "execution_count": 59,
   "metadata": {
    "collapsed": false
   },
   "outputs": [
    {
     "data": {
      "text/plain": [
       "'D.update([E, ]**F) -> None.  Update D from dict/iterable E and F.\\nIf E present and has a .keys() method, does:     for k in E: D[k] = E[k]\\nIf E present and lacks .keys() method, does:     for (k, v) in E: D[k] = v\\nIn either case, this is followed by: for k in F: D[k] = F[k]'"
      ]
     },
     "execution_count": 59,
     "metadata": {},
     "output_type": "execute_result"
    }
   ],
   "source": [
    " functools.__dict__.update.__doc__\n"
   ]
  },
  {
   "cell_type": "code",
   "execution_count": null,
   "metadata": {
    "collapsed": true
   },
   "outputs": [],
   "source": []
  }
 ],
 "metadata": {
  "kernelspec": {
   "display_name": "Python 2",
   "language": "python",
   "name": "python2"
  },
  "language_info": {
   "codemirror_mode": {
    "name": "ipython",
    "version": 2
   },
   "file_extension": ".py",
   "mimetype": "text/x-python",
   "name": "python",
   "nbconvert_exporter": "python",
   "pygments_lexer": "ipython2",
   "version": "2.7.11"
  }
 },
 "nbformat": 4,
 "nbformat_minor": 0
}
